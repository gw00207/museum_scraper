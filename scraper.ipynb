{
 "cells": [
  {
   "cell_type": "code",
   "execution_count": null,
   "metadata": {
    "ExecuteTime": {
     "end_time": "2020-07-06T15:14:02.147501Z",
     "start_time": "2020-07-06T15:11:30.763427Z"
    }
   },
   "outputs": [],
   "source": [
    "import urllib\n",
    "from requests import get\n",
    "from bs4 import BeautifulSoup as Soup\n",
    "from selenium import webdriver\n",
    "from selenium.webdriver.chrome.options import Options\n",
    "from selenium.webdriver.common.by import By\n",
    "from selenium.webdriver.common.keys import Keys\n",
    "from selenium.webdriver.support.ui import WebDriverWait\n",
    "from selenium.webdriver.support.expected_conditions import presence_of_element_located\n",
    "import pandas as pd\n",
    "import time\n",
    "from webdriver_manager.chrome import ChromeDriverManager\n",
    "chrome_options = Options()\n",
    "# chrome_options.add_argument('--headless')\n",
    "\n",
    "num_pages = 5\n",
    "\n",
    "search_pages = []\n",
    "for i in range(num_pages):\n",
    "    search_pages.append(f'https://www.metmuseum.org/art/collection/search#!?material=Handkerchiefs' \\\n",
    "                 f'&offset={i*80}&perPage=80&pageSize=0&sortBy=Relevance&sortOrder=asc' \\\n",
    "                 f'&searchField=All&showOnly=openAccess')\n",
    "\n",
    "\n",
    "def get_img(url: str):\n",
    "    \"\"\"get text descriptions from url\"\"\"\n",
    "    hdr = {'User-Agent': 'Chrome/84.0.4103.106',\n",
    "         'Accept': 'text/html,application/xhtml+xml,application/xml;q=0.9,*/*;q=0.8',\n",
    "         'Referer': 'https://cssspritegenerator.com',\n",
    "         'Accept-Charset': 'ISO-8859-1,utf-8;q=0.7,*;q=0.3',\n",
    "         'Accept-Encoding': 'none',\n",
    "         'Accept-Language': 'en-US,en;q=0.8',\n",
    "         'Connection': 'keep-alive'}\n",
    "\n",
    "    driver = webdriver.Chrome(ChromeDriverManager().install(), options=chrome_options)\n",
    "    driver.get(url)\n",
    "    time.sleep(2)\n",
    "\n",
    "    html = driver.page_source\n",
    "    soup = Soup(html)\n",
    "    for i in soup.findAll('img', {'class': 'result-card__image--art'}):\n",
    "        image_name = i.attrs['src'].rsplit('/', 1)[-1]\n",
    "        image_url = i.attrs['src'].replace('mobile-large', 'original')\n",
    "        with open(f'assets/met/{image_name}', \"wb\") as f:\n",
    "            f.write(get(image_url).content)\n",
    "\n",
    "for i in search_pages:\n",
    "    get_img(i)"
   ]
  },
  {
   "cell_type": "code",
   "execution_count": null,
   "metadata": {
    "ExecuteTime": {
     "start_time": "2020-06-28T16:30:22.008Z"
    }
   },
   "outputs": [],
   "source": [
    "num_pages = 20\n",
    "start_page = 10\n",
    "\n",
    "search_pages = []\n",
    "\n",
    "for i in range(num_pages):\n",
    "    search_pages.append(f'https://collections.mfa.org/search/objects/*/handkerchief/images?page={start_page+i}')\n",
    "\n",
    "def get_img(url: str):\n",
    "    \"\"\"get text descriptions from url\"\"\"\n",
    "    hdr = {'User-Agent': 'Mozilla/5.0 (X11; Linux x86_64) AppleWebKit/537.11 (KHTML, like Gecko) Chrome/23.0.1271.64 Safari/537.11',\n",
    "         'Accept': 'text/html,application/xhtml+xml,application/xml;q=0.9,*/*;q=0.8',\n",
    "         'Referer': 'https://cssspritegenerator.com',\n",
    "         'Accept-Charset': 'ISO-8859-1,utf-8;q=0.7,*;q=0.3',\n",
    "         'Accept-Encoding': 'none',\n",
    "         'Accept-Language': 'en-US,en;q=0.8',\n",
    "         'Connection': 'keep-alive'}\n",
    "\n",
    "    d = get(url, headers=hdr)\n",
    "    soup = Soup(d.content, 'html.parser')\n",
    "    domain = 'https://collections.mfa.org'\n",
    "    for foo in soup.findAll('div', {'class': 'primaryMedia img-wrap'}):\n",
    "        page = foo.find('a').attrs['href']\n",
    "        url = f'{domain}{page}'\n",
    "        item_id = page.split(\"/\")[2]\n",
    "        print(item_id)\n",
    "        download = f'{domain}/download/{item_id}'\n",
    "        d = get(download, headers=hdr)\n",
    "        soup2 = Soup(d.content, 'html.parser')\n",
    "        links = soup2.findAll('a', {'target': '_blank'})\n",
    "        if links:\n",
    "            dl_link = links[1].attrs['href']\n",
    "            with open(f'assets/mfa/{item_id}.jpg', \"wb\") as f:\n",
    "                f.write(get(dl_link).content)\n",
    "\n",
    "for i in search_pages:\n",
    "    get_img(i)"
   ]
  }
 ],
 "metadata": {
  "kernelspec": {
   "display_name": "Python 3",
   "language": "python",
   "name": "python3"
  },
  "language_info": {
   "codemirror_mode": {
    "name": "ipython",
    "version": 3
   },
   "file_extension": ".py",
   "mimetype": "text/x-python",
   "name": "python",
   "nbconvert_exporter": "python",
   "pygments_lexer": "ipython3",
   "version": "3.7.4"
  }
 },
 "nbformat": 4,
 "nbformat_minor": 2
}
